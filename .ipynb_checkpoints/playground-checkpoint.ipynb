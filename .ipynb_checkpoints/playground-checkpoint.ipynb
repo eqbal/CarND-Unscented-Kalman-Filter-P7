{
 "cells": [
  {
   "cell_type": "code",
   "execution_count": 1,
   "metadata": {
    "collapsed": true
   },
   "outputs": [],
   "source": [
    "import plotly.offline as py\n",
    "from plotly.graph_objs import *\n",
    "import pandas as pd\n",
    "import math"
   ]
  },
  {
   "cell_type": "code",
   "execution_count": null,
   "metadata": {
    "collapsed": true
   },
   "outputs": [],
   "source": [
    "cols = [\n",
    "    'time_stamp',\n",
    "    'p1est',\n",
    "    'p2est',\n",
    "    'vest',\n",
    "    'yawest',\n",
    "    'yawrateest',\n",
    "    'sens_type',\n",
    "    'NIS',\n",
    "    'p1meas',\n",
    "    'p2meas',\n",
    "    'p1',\n",
    "    'p2',\n",
    "    'v1_gt',\n",
    "    'v2_gt'\n",
    "]\n",
    "\n",
    "with open('./output/output.txt') as f:\n",
    "    table_ekf_output = pd.read_table(\n",
    "        f,sep='\\t',names=cols, header=0, lineterminator='\\n')"
   ]
  }
 ],
 "metadata": {
  "kernelspec": {
   "display_name": "Python 3",
   "language": "python",
   "name": "python3"
  },
  "language_info": {
   "codemirror_mode": {
    "name": "ipython",
    "version": 3
   },
   "file_extension": ".py",
   "mimetype": "text/x-python",
   "name": "python",
   "nbconvert_exporter": "python",
   "pygments_lexer": "ipython3",
   "version": "3.6.0"
  }
 },
 "nbformat": 4,
 "nbformat_minor": 2
}
